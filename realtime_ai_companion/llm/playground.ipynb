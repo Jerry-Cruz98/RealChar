{
 "cells": [
  {
   "cell_type": "code",
   "execution_count": 15,
   "metadata": {},
   "outputs": [],
   "source": [
    "import os\n",
    "import openai\n",
    "from dotenv import load_dotenv\n",
    "\n",
    "load_dotenv()\n",
    "\n",
    "openai.api_key = os.getenv(\"OPENAI_API_KEY\")"
   ]
  },
  {
   "cell_type": "code",
   "execution_count": 7,
   "metadata": {},
   "outputs": [],
   "source": [
    "from pathlib import Path\n",
    "from llama_index import download_loader\n",
    "\n",
    "MarkdownReader = download_loader(\"MarkdownReader\")\n",
    "\n",
    "loader = MarkdownReader()\n",
    "resume_documents = loader.load_data(file=Path(\"../data/resume.md\"), extra_info={'file_name': 'resume.md'})\n",
    "job_description_documents = loader.load_data(file=Path(\"../data/job_description.md\"), extra_info={'file_name': 'job_description.md'})"
   ]
  },
  {
   "cell_type": "code",
   "execution_count": 8,
   "metadata": {},
   "outputs": [
    {
     "data": {
      "text/plain": [
       "[Document(id_='22ead098-80ea-4916-b916-9133bd61c06b', embedding=None, metadata={'file_name': 'resume.md'}, excluded_embed_metadata_keys=[], excluded_llm_metadata_keys=[], relationships={}, hash='acdbad31ef53ae861858de967cd3cd18569a631d26c9aa2d948a92e6c56d290f', text='\\n**Contact Information**\\n\\n- 123 Main Street, Anytown, USA\\n- Phone: (123) 456-7890\\n- Email: joedoe@example.com\\n\\n', start_char_idx=None, end_char_idx=None, text_template='{metadata_str}\\n\\n{content}', metadata_template='{key}: {value}', metadata_seperator='\\n'),\n",
       " Document(id_='920ea733-cc71-4c92-8231-f299d0d33a93', embedding=None, metadata={'file_name': 'resume.md'}, excluded_embed_metadata_keys=[], excluded_llm_metadata_keys=[], relationships={}, hash='59b37a1c8350277a9cd7c26bcf89bbcd578da30014d04d96012751f6d40df21e', text='\\nInnovative software engineer with a proven ability to develop high-performance applications and technical innovations. Seeking a challenging role to utilize my skills and knowledge, enhance my expertise, and contribute to a software team.\\n\\n', start_char_idx=None, end_char_idx=None, text_template='{metadata_str}\\n\\n{content}', metadata_template='{key}: {value}', metadata_seperator='\\n'),\n",
       " Document(id_='58ea75c1-9a12-4ddf-a51a-041c5dd52698', embedding=None, metadata={'file_name': 'resume.md'}, excluded_embed_metadata_keys=[], excluded_llm_metadata_keys=[], relationships={}, hash='18b2666966a0ec5e80fe677612ab7ace99b37f660d68195d62c8916df17f1817', text='\\n- Proficient in Java, Python, C++, JavaScript\\n- Full-stack web development using Node.js, React.js\\n- Experience with Android App Development\\n- Strong understanding of data structures and algorithms\\n- Excellent problem-solving skills\\n- Proficient in version control systems (Git)\\n\\n', start_char_idx=None, end_char_idx=None, text_template='{metadata_str}\\n\\n{content}', metadata_template='{key}: {value}', metadata_seperator='\\n'),\n",
       " Document(id_='46ee84c2-8bec-4e40-8fac-7aa0cea44095', embedding=None, metadata={'file_name': 'resume.md'}, excluded_embed_metadata_keys=[], excluded_llm_metadata_keys=[], relationships={}, hash='28ce2718fd47e146630cf7a8ac63a80242b9c16a0859ec8723b30860402c57d4', text='\\nBachelor of Science in Computer Science, XYZ University, Anytown, USA (2015 - 2019)\\n\\n', start_char_idx=None, end_char_idx=None, text_template='{metadata_str}\\n\\n{content}', metadata_template='{key}: {value}', metadata_seperator='\\n'),\n",
       " Document(id_='0eb2049f-2b42-4d2d-ae28-b5f25eb5b80e', embedding=None, metadata={'file_name': 'resume.md'}, excluded_embed_metadata_keys=[], excluded_llm_metadata_keys=[], relationships={}, hash='2f5eb3f0562327dbffc57962af5e2de4b933c3286cae329f41e79f69710760e2', text='\\n1. **Project A (Year)**: Developed a full-stack web application using React.js and Node.js, which served as a platform for users to share and discuss ideas. The project involved implementing user authentication, real-time chat functionality, and a responsive UI.\\n\\n2. **Project B (Year)**: Worked on an Android application that uses machine learning algorithms to recommend personalized content to users. Responsibilities included developing the recommendation algorithm and building the user interface.\\n\\n', start_char_idx=None, end_char_idx=None, text_template='{metadata_str}\\n\\n{content}', metadata_template='{key}: {value}', metadata_seperator='\\n'),\n",
       " Document(id_='e6d615ff-2ea0-4a46-8f00-86011aa0f9f3', embedding=None, metadata={'file_name': 'resume.md'}, excluded_embed_metadata_keys=[], excluded_llm_metadata_keys=[], relationships={}, hash='356615b4894df7c939eb44ae393199faae7289428b4c86284012c21a9f5b12b6', text='\\n**Software Engineer, ABC Company, Anytown, USA (2019 - present)**\\n\\n- Designed and implemented software applications in Java and Python.\\n- Collaborated with cross-functional teams to define, design, and ship new features.\\n- Continuously discovered, evaluated, and implemented new technologies to maximize development efficiency.\\n\\n', start_char_idx=None, end_char_idx=None, text_template='{metadata_str}\\n\\n{content}', metadata_template='{key}: {value}', metadata_seperator='\\n'),\n",
       " Document(id_='c43e4f1e-16ec-4a83-8ad3-1867a601e10c', embedding=None, metadata={'file_name': 'resume.md'}, excluded_embed_metadata_keys=[], excluded_llm_metadata_keys=[], relationships={}, hash='470cfc5d3947ca625e3ae60057b03244d8ce108aaa07e8e1deb64ea3d4a51842', text='\\n- Oracle Certified Professional, Java SE 8 Programmer\\n- Python Institute - Certified Entry-Level Python Programmer\\n\\n', start_char_idx=None, end_char_idx=None, text_template='{metadata_str}\\n\\n{content}', metadata_template='{key}: {value}', metadata_seperator='\\n'),\n",
       " Document(id_='e037404f-2e93-4aa2-99d4-c3c6a5ac3046', embedding=None, metadata={'file_name': 'resume.md'}, excluded_embed_metadata_keys=[], excluded_llm_metadata_keys=[], relationships={}, hash='0a1cd9fd47b45534fe7ea5ff94a7d92b13af3e48df384485891d514e9cf0255e', text='\\nAvailable upon request\\n\\n', start_char_idx=None, end_char_idx=None, text_template='{metadata_str}\\n\\n{content}', metadata_template='{key}: {value}', metadata_seperator='\\n')]"
      ]
     },
     "execution_count": 8,
     "metadata": {},
     "output_type": "execute_result"
    }
   ],
   "source": [
    "resume_documents"
   ]
  },
  {
   "cell_type": "code",
   "execution_count": 9,
   "metadata": {},
   "outputs": [
    {
     "data": {
      "text/plain": [
       "[Document(id_='7a7b3fb5-163c-4aa0-a5ea-69f0eafcfd96', embedding=None, metadata={'file_name': 'job_description.md'}, excluded_embed_metadata_keys=[], excluded_llm_metadata_keys=[], relationships={}, hash='81a5d8004ec41a9c7f0fb57759532a0d3c37e47637d7bc78dd3470bc5b542a69', text='\\n**Location**: Anytown, USA\\n\\n**Company**: FutureTech Inc.\\n\\n', start_char_idx=None, end_char_idx=None, text_template='{metadata_str}\\n\\n{content}', metadata_template='{key}: {value}', metadata_seperator='\\n'),\n",
       " Document(id_='af2f3333-a92e-4f29-855c-06855aa62734', embedding=None, metadata={'file_name': 'job_description.md'}, excluded_embed_metadata_keys=[], excluded_llm_metadata_keys=[], relationships={}, hash='9c8e0a4e2e67453bcb94becdc77a695cc7becbdedbf818c99e8862b82f0a1682', text='\\nFutureTech Inc. is a leading technology company that specializes in creating innovative software solutions to address everyday challenges. We are seeking a talented and motivated Software Engineer to join our dynamic team.\\n\\n', start_char_idx=None, end_char_idx=None, text_template='{metadata_str}\\n\\n{content}', metadata_template='{key}: {value}', metadata_seperator='\\n'),\n",
       " Document(id_='c8de4ec5-c128-4fac-88d4-4bab239958cf', embedding=None, metadata={'file_name': 'job_description.md'}, excluded_embed_metadata_keys=[], excluded_llm_metadata_keys=[], relationships={}, hash='01b6bdf8dc40daf2a5c4f62457fa60a41fe939e3efb22d40ee1b1563a98eb9da', text='\\nAs a Software Engineer at FutureTech Inc., you will be responsible for designing, developing, and implementing high-quality software solutions. You will work closely with our team of skilled engineers and contribute to all stages of the software development life cycle.\\n\\n', start_char_idx=None, end_char_idx=None, text_template='{metadata_str}\\n\\n{content}', metadata_template='{key}: {value}', metadata_seperator='\\n'),\n",
       " Document(id_='aae163f1-7b7e-432c-8883-93b29260353b', embedding=None, metadata={'file_name': 'job_description.md'}, excluded_embed_metadata_keys=[], excluded_llm_metadata_keys=[], relationships={}, hash='81847b44d39c1901d4105d9b9cc2619f68b278e95d41dac2b3e7dea285e0d112', text='\\n- Design, develop, and implement software applications.\\n- Collaborate with cross-functional teams to define, design, and ship new features.\\n- Continuously discover, evaluate, and implement new technologies to maximize development efficiency.\\n- Contribute to the entire app lifecycle, from concept stage until delivery and post-launch support.\\n- Maintain code integrity and organization.\\n\\n', start_char_idx=None, end_char_idx=None, text_template='{metadata_str}\\n\\n{content}', metadata_template='{key}: {value}', metadata_seperator='\\n'),\n",
       " Document(id_='c089ad22-a7a3-4acc-bd48-9e601acf9e40', embedding=None, metadata={'file_name': 'job_description.md'}, excluded_embed_metadata_keys=[], excluded_llm_metadata_keys=[], relationships={}, hash='05331790d8c06d895c7808c4234d944f11a4aad7ea8e18819ee7ffc3d976af33', text=\"\\n- Bachelor's degree in Computer Science or related field.\\n- Proficient in Java, Python, C++, JavaScript.\\n- Full-stack web development experience using Node.js, React.js.\\n- Experience with Android App Development.\\n- Strong understanding of data structures and algorithms.\\n- Excellent problem-solving skills.\\n- Proficient in version control systems (Git).\\n- Certifications in Oracle Certified Professional, Java SE 8 Programmer or Python Institute - Certified Entry-Level Python Programmer are a plus.\\n\\n\", start_char_idx=None, end_char_idx=None, text_template='{metadata_str}\\n\\n{content}', metadata_template='{key}: {value}', metadata_seperator='\\n'),\n",
       " Document(id_='250aa240-7321-41a4-85f9-774b459a2494', embedding=None, metadata={'file_name': 'job_description.md'}, excluded_embed_metadata_keys=[], excluded_llm_metadata_keys=[], relationships={}, hash='e6c93f549c17522b89a8b60b7c9fc88ffeb94e6d0240fc6a826729bb119fe0d3', text='\\n- Competitive salary and benefits package.\\n- Opportunity to work with a team of top-tier engineers.\\n- A work environment that encourages learning and growth.\\n- The chance to work on exciting, impactful projects.\\n\\n', start_char_idx=None, end_char_idx=None, text_template='{metadata_str}\\n\\n{content}', metadata_template='{key}: {value}', metadata_seperator='\\n')]"
      ]
     },
     "execution_count": 9,
     "metadata": {},
     "output_type": "execute_result"
    }
   ],
   "source": [
    "job_description_documents"
   ]
  },
  {
   "cell_type": "code",
   "execution_count": 10,
   "metadata": {},
   "outputs": [],
   "source": [
    "from llama_index.node_parser import SimpleNodeParser\n",
    "\n",
    "parser = SimpleNodeParser()\n",
    "\n",
    "resume_nodes = parser.get_nodes_from_documents(resume_documents)\n",
    "job_description_nodes = parser.get_nodes_from_documents(job_description_documents)"
   ]
  },
  {
   "cell_type": "code",
   "execution_count": 11,
   "metadata": {},
   "outputs": [
    {
     "data": {
      "text/plain": [
       "[TextNode(id_='86692732-2841-43a3-b978-663d2f73b061', embedding=None, metadata={'file_name': 'resume.md'}, excluded_embed_metadata_keys=[], excluded_llm_metadata_keys=[], relationships={<NodeRelationship.SOURCE: '1'>: RelatedNodeInfo(node_id='22ead098-80ea-4916-b916-9133bd61c06b', node_type=None, metadata={'file_name': 'resume.md'}, hash='acdbad31ef53ae861858de967cd3cd18569a631d26c9aa2d948a92e6c56d290f')}, hash='e2c34d72fd18412cf53f844ddf11a0c1b89cb919d9f4bea7fc1155482dfa822c', text='**Contact Information**\\n\\n- 123 Main Street, Anytown, USA\\n- Phone: (123) 456-7890\\n- Email: joedoe@example.com', start_char_idx=0, end_char_idx=108, text_template='{metadata_str}\\n\\n{content}', metadata_template='{key}: {value}', metadata_seperator='\\n'),\n",
       " TextNode(id_='acf5f033-c66f-4ca8-9148-d51e54adc7f1', embedding=None, metadata={'file_name': 'resume.md'}, excluded_embed_metadata_keys=[], excluded_llm_metadata_keys=[], relationships={<NodeRelationship.SOURCE: '1'>: RelatedNodeInfo(node_id='920ea733-cc71-4c92-8231-f299d0d33a93', node_type=None, metadata={'file_name': 'resume.md'}, hash='59b37a1c8350277a9cd7c26bcf89bbcd578da30014d04d96012751f6d40df21e')}, hash='c2b9eb824b51043b5f029c73526eee25b66339a5857856cad508a2cca8762a03', text='Innovative software engineer with a proven ability to develop high-performance applications and technical innovations. Seeking a challenging role to utilize my skills and knowledge, enhance my expertise, and contribute to a software team.', start_char_idx=0, end_char_idx=238, text_template='{metadata_str}\\n\\n{content}', metadata_template='{key}: {value}', metadata_seperator='\\n'),\n",
       " TextNode(id_='53a1cbdd-cf62-4a6c-9e51-db59019b8f3b', embedding=None, metadata={'file_name': 'resume.md'}, excluded_embed_metadata_keys=[], excluded_llm_metadata_keys=[], relationships={<NodeRelationship.SOURCE: '1'>: RelatedNodeInfo(node_id='58ea75c1-9a12-4ddf-a51a-041c5dd52698', node_type=None, metadata={'file_name': 'resume.md'}, hash='18b2666966a0ec5e80fe677612ab7ace99b37f660d68195d62c8916df17f1817')}, hash='ef1295170cbc7d01891bacc9f0bc2c92394bcb59f82e172a8d533d54ede47a6c', text='- Proficient in Java, Python, C++, JavaScript\\n- Full-stack web development using Node.js, React.js\\n- Experience with Android App Development\\n- Strong understanding of data structures and algorithms\\n- Excellent problem-solving skills\\n- Proficient in version control systems (Git)', start_char_idx=0, end_char_idx=278, text_template='{metadata_str}\\n\\n{content}', metadata_template='{key}: {value}', metadata_seperator='\\n'),\n",
       " TextNode(id_='ae649ec7-999c-44d3-9761-923c821c958c', embedding=None, metadata={'file_name': 'resume.md'}, excluded_embed_metadata_keys=[], excluded_llm_metadata_keys=[], relationships={<NodeRelationship.SOURCE: '1'>: RelatedNodeInfo(node_id='46ee84c2-8bec-4e40-8fac-7aa0cea44095', node_type=None, metadata={'file_name': 'resume.md'}, hash='28ce2718fd47e146630cf7a8ac63a80242b9c16a0859ec8723b30860402c57d4')}, hash='45feabeb6b0b0e587673f444da7569d069172e610ccf71e0ae0851fbdb1e45a3', text='Bachelor of Science in Computer Science, XYZ University, Anytown, USA (2015 - 2019)', start_char_idx=0, end_char_idx=83, text_template='{metadata_str}\\n\\n{content}', metadata_template='{key}: {value}', metadata_seperator='\\n'),\n",
       " TextNode(id_='edec1459-de3c-44ce-a660-39b2523d3da8', embedding=None, metadata={'file_name': 'resume.md'}, excluded_embed_metadata_keys=[], excluded_llm_metadata_keys=[], relationships={<NodeRelationship.SOURCE: '1'>: RelatedNodeInfo(node_id='0eb2049f-2b42-4d2d-ae28-b5f25eb5b80e', node_type=None, metadata={'file_name': 'resume.md'}, hash='2f5eb3f0562327dbffc57962af5e2de4b933c3286cae329f41e79f69710760e2')}, hash='75860ea017a2ff2780f5e92f8b0d82803734efff89158a7cb570b427447ba0d5', text='1. **Project A (Year)**: Developed a full-stack web application using React.js and Node.js, which served as a platform for users to share and discuss ideas. The project involved implementing user authentication, real-time chat functionality, and a responsive UI.\\n\\n2. **Project B (Year)**: Worked on an Android application that uses machine learning algorithms to recommend personalized content to users. Responsibilities included developing the recommendation algorithm and building the user interface.', start_char_idx=0, end_char_idx=502, text_template='{metadata_str}\\n\\n{content}', metadata_template='{key}: {value}', metadata_seperator='\\n'),\n",
       " TextNode(id_='986c2854-ef4a-4b66-9560-e58cad35c049', embedding=None, metadata={'file_name': 'resume.md'}, excluded_embed_metadata_keys=[], excluded_llm_metadata_keys=[], relationships={<NodeRelationship.SOURCE: '1'>: RelatedNodeInfo(node_id='e6d615ff-2ea0-4a46-8f00-86011aa0f9f3', node_type=None, metadata={'file_name': 'resume.md'}, hash='356615b4894df7c939eb44ae393199faae7289428b4c86284012c21a9f5b12b6')}, hash='b9739ea60606d5e2b594e3a009b9c6566069c2cff0dd01a986e398156cd668b0', text='**Software Engineer, ABC Company, Anytown, USA (2019 - present)**\\n\\n- Designed and implemented software applications in Java and Python.\\n- Collaborated with cross-functional teams to define, design, and ship new features.\\n- Continuously discovered, evaluated, and implemented new technologies to maximize development efficiency.', start_char_idx=0, end_char_idx=327, text_template='{metadata_str}\\n\\n{content}', metadata_template='{key}: {value}', metadata_seperator='\\n'),\n",
       " TextNode(id_='c783065c-7403-4967-bbae-2b2d29773b28', embedding=None, metadata={'file_name': 'resume.md'}, excluded_embed_metadata_keys=[], excluded_llm_metadata_keys=[], relationships={<NodeRelationship.SOURCE: '1'>: RelatedNodeInfo(node_id='c43e4f1e-16ec-4a83-8ad3-1867a601e10c', node_type=None, metadata={'file_name': 'resume.md'}, hash='470cfc5d3947ca625e3ae60057b03244d8ce108aaa07e8e1deb64ea3d4a51842')}, hash='41ebf211be0b00976faa58ca1547c8c1463c2ea8b04bf2779636294430d99b68', text='- Oracle Certified Professional, Java SE 8 Programmer\\n- Python Institute - Certified Entry-Level Python Programmer', start_char_idx=0, end_char_idx=114, text_template='{metadata_str}\\n\\n{content}', metadata_template='{key}: {value}', metadata_seperator='\\n'),\n",
       " TextNode(id_='5c13d89d-6095-4d8a-87aa-4e5af2e78ea3', embedding=None, metadata={'file_name': 'resume.md'}, excluded_embed_metadata_keys=[], excluded_llm_metadata_keys=[], relationships={<NodeRelationship.SOURCE: '1'>: RelatedNodeInfo(node_id='e037404f-2e93-4aa2-99d4-c3c6a5ac3046', node_type=None, metadata={'file_name': 'resume.md'}, hash='0a1cd9fd47b45534fe7ea5ff94a7d92b13af3e48df384485891d514e9cf0255e')}, hash='12cc9f18a717f33e7e6246064e8455d0911faacaa8c0291e8919655fb353b0a1', text='Available upon request', start_char_idx=0, end_char_idx=22, text_template='{metadata_str}\\n\\n{content}', metadata_template='{key}: {value}', metadata_seperator='\\n')]"
      ]
     },
     "execution_count": 11,
     "metadata": {},
     "output_type": "execute_result"
    }
   ],
   "source": [
    "resume_nodes"
   ]
  },
  {
   "cell_type": "code",
   "execution_count": 16,
   "metadata": {},
   "outputs": [],
   "source": [
    "from llama_index.schema import NodeRelationship\n",
    "from llama_index import VectorStoreIndex\n",
    "\n",
    "resume_nodes[-1].relationships[NodeRelationship.NEXT] = job_description_nodes[0].node_id\n",
    "job_description_nodes[0].relationships[NodeRelationship.PREVIOUS] = resume_nodes[-1].node_id\n",
    "nodes = resume_nodes + job_description_nodes\n",
    "\n",
    "index = VectorStoreIndex(nodes)"
   ]
  },
  {
   "cell_type": "code",
   "execution_count": 17,
   "metadata": {},
   "outputs": [],
   "source": [
    "from llama_index import StorageContext, ListIndex\n",
    "\n",
    "storage_context = StorageContext.from_defaults()\n",
    "storage_context.docstore.add_documents(nodes)\n",
    "\n",
    "index1 = VectorStoreIndex(nodes, storage_context=storage_context)\n",
    "index2 = ListIndex(nodes, storage_context=storage_context)"
   ]
  },
  {
   "cell_type": "code",
   "execution_count": 18,
   "metadata": {},
   "outputs": [
    {
     "data": {
      "text/plain": [
       "[NodeWithScore(node=TextNode(id_='986c2854-ef4a-4b66-9560-e58cad35c049', embedding=None, metadata={'file_name': 'resume.md'}, excluded_embed_metadata_keys=[], excluded_llm_metadata_keys=[], relationships={<NodeRelationship.SOURCE: '1'>: RelatedNodeInfo(node_id='e6d615ff-2ea0-4a46-8f00-86011aa0f9f3', node_type=None, metadata={'file_name': 'resume.md'}, hash='356615b4894df7c939eb44ae393199faae7289428b4c86284012c21a9f5b12b6')}, hash='b9739ea60606d5e2b594e3a009b9c6566069c2cff0dd01a986e398156cd668b0', text='**Software Engineer, ABC Company, Anytown, USA (2019 - present)**\\n\\n- Designed and implemented software applications in Java and Python.\\n- Collaborated with cross-functional teams to define, design, and ship new features.\\n- Continuously discovered, evaluated, and implemented new technologies to maximize development efficiency.', start_char_idx=0, end_char_idx=327, text_template='{metadata_str}\\n\\n{content}', metadata_template='{key}: {value}', metadata_seperator='\\n'), score=0.8369189883910028),\n",
       " NodeWithScore(node=TextNode(id_='e19fac51-81d6-4513-9fee-d02943558a2f', embedding=None, metadata={'file_name': 'job_description.md'}, excluded_embed_metadata_keys=[], excluded_llm_metadata_keys=[], relationships={<NodeRelationship.SOURCE: '1'>: RelatedNodeInfo(node_id='c8de4ec5-c128-4fac-88d4-4bab239958cf', node_type=None, metadata={'file_name': 'job_description.md'}, hash='01b6bdf8dc40daf2a5c4f62457fa60a41fe939e3efb22d40ee1b1563a98eb9da')}, hash='d9091257acfa06293bfbdb9feff5d8f6b0127d36dfb8acd4c0471a84afb24bed', text='As a Software Engineer at FutureTech Inc., you will be responsible for designing, developing, and implementing high-quality software solutions. You will work closely with our team of skilled engineers and contribute to all stages of the software development life cycle.', start_char_idx=0, end_char_idx=269, text_template='{metadata_str}\\n\\n{content}', metadata_template='{key}: {value}', metadata_seperator='\\n'), score=0.8245258847766053)]"
      ]
     },
     "execution_count": 18,
     "metadata": {},
     "output_type": "execute_result"
    }
   ],
   "source": [
    "r = index1.as_retriever().retrieve(\"I am a software engineer\")\n",
    "r"
   ]
  },
  {
   "cell_type": "code",
   "execution_count": 20,
   "metadata": {},
   "outputs": [
    {
     "data": {
      "text/plain": [
       "NodeWithScore(node=TextNode(id_='986c2854-ef4a-4b66-9560-e58cad35c049', embedding=None, metadata={'file_name': 'resume.md'}, excluded_embed_metadata_keys=[], excluded_llm_metadata_keys=[], relationships={<NodeRelationship.SOURCE: '1'>: RelatedNodeInfo(node_id='e6d615ff-2ea0-4a46-8f00-86011aa0f9f3', node_type=None, metadata={'file_name': 'resume.md'}, hash='356615b4894df7c939eb44ae393199faae7289428b4c86284012c21a9f5b12b6')}, hash='b9739ea60606d5e2b594e3a009b9c6566069c2cff0dd01a986e398156cd668b0', text='**Software Engineer, ABC Company, Anytown, USA (2019 - present)**\\n\\n- Designed and implemented software applications in Java and Python.\\n- Collaborated with cross-functional teams to define, design, and ship new features.\\n- Continuously discovered, evaluated, and implemented new technologies to maximize development efficiency.', start_char_idx=0, end_char_idx=327, text_template='{metadata_str}\\n\\n{content}', metadata_template='{key}: {value}', metadata_seperator='\\n'), score=0.8369189883910028)"
      ]
     },
     "execution_count": 20,
     "metadata": {},
     "output_type": "execute_result"
    }
   ],
   "source": [
    "s = r[0]\n",
    "s"
   ]
  },
  {
   "cell_type": "code",
   "execution_count": 23,
   "metadata": {},
   "outputs": [
    {
     "name": "stdout",
     "output_type": "stream",
     "text": [
      "('{\"node\": {\"id_\": \"986c2854-ef4a-4b66-9560-e58cad35c049\", \"embedding\": null, '\n",
      " '\"metadata\": {\"file_name\": \"resume.md\"}, \"excluded_embed_metadata_keys\": [], '\n",
      " '\"excluded_llm_metadata_keys\": [], \"relationships\": {\"1\": {\"node_id\": '\n",
      " '\"e6d615ff-2ea0-4a46-8f00-86011aa0f9f3\", \"node_type\": null, \"metadata\": '\n",
      " '{\"file_name\": \"resume.md\"}, \"hash\": '\n",
      " '\"356615b4894df7c939eb44ae393199faae7289428b4c86284012c21a9f5b12b6\"}}, '\n",
      " '\"hash\": \"b9739ea60606d5e2b594e3a009b9c6566069c2cff0dd01a986e398156cd668b0\", '\n",
      " '\"text\": \"**Software Engineer, ABC Company, Anytown, USA (2019 - '\n",
      " 'present)**\\\\n\\\\n- Designed and implemented software applications in Java and '\n",
      " 'Python.\\\\n- Collaborated with cross-functional teams to define, design, and '\n",
      " 'ship new features.\\\\n- Continuously discovered, evaluated, and implemented '\n",
      " 'new technologies to maximize development efficiency.\", \"start_char_idx\": 0, '\n",
      " '\"end_char_idx\": 327, \"text_template\": \"{metadata_str}\\\\n\\\\n{content}\", '\n",
      " '\"metadata_template\": \"{key}: {value}\", \"metadata_seperator\": \"\\\\n\"}, '\n",
      " '\"score\": 0.8369189883910028}')\n"
     ]
    }
   ],
   "source": [
    "from pprint import pprint\n",
    "pprint(s.json())"
   ]
  },
  {
   "cell_type": "code",
   "execution_count": 24,
   "metadata": {},
   "outputs": [
    {
     "data": {
      "text/plain": [
       "'**Software Engineer, ABC Company, Anytown, USA (2019 - present)**\\n\\n- Designed and implemented software applications in Java and Python.\\n- Collaborated with cross-functional teams to define, design, and ship new features.\\n- Continuously discovered, evaluated, and implemented new technologies to maximize development efficiency.'"
      ]
     },
     "execution_count": 24,
     "metadata": {},
     "output_type": "execute_result"
    }
   ],
   "source": [
    "s.node.text"
   ]
  },
  {
   "cell_type": "code",
   "execution_count": null,
   "metadata": {},
   "outputs": [],
   "source": []
  }
 ],
 "metadata": {
  "kernelspec": {
   "display_name": ".venv",
   "language": "python",
   "name": "python3"
  },
  "language_info": {
   "codemirror_mode": {
    "name": "ipython",
    "version": 3
   },
   "file_extension": ".py",
   "mimetype": "text/x-python",
   "name": "python",
   "nbconvert_exporter": "python",
   "pygments_lexer": "ipython3",
   "version": "3.10.9"
  },
  "orig_nbformat": 4
 },
 "nbformat": 4,
 "nbformat_minor": 2
}
